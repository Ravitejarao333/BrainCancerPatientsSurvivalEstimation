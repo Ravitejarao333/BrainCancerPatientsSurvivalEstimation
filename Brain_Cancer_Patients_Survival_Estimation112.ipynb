{
  "nbformat": 4,
  "nbformat_minor": 0,
  "metadata": {
    "colab": {
      "provenance": []
    },
    "kernelspec": {
      "name": "python3",
      "display_name": "Python 3"
    },
    "language_info": {
      "name": "python"
    }
  },
  "cells": [
    {
      "cell_type": "code",
      "execution_count": null,
      "metadata": {
        "id": "wiLgCRVGUxg3"
      },
      "outputs": [],
      "source": []
    },
    {
      "cell_type": "code",
      "source": [
        "from google.colab import drive\n",
        "drive.mount('/content/drive')"
      ],
      "metadata": {
        "colab": {
          "base_uri": "https://localhost:8080/"
        },
        "id": "srPCCWKXU4DH",
        "outputId": "1da717ed-2530-448f-f324-836513f0332f"
      },
      "execution_count": 15,
      "outputs": [
        {
          "output_type": "stream",
          "name": "stdout",
          "text": [
            "Drive already mounted at /content/drive; to attempt to forcibly remount, call drive.mount(\"/content/drive\", force_remount=True).\n"
          ]
        }
      ]
    },
    {
      "cell_type": "code",
      "source": [
        "import pandas as pd\n",
        "import numpy as np\n",
        "from sklearn.model_selection import train_test_split\n",
        "from sklearn.preprocessing import PolynomialFeatures, StandardScaler\n",
        "from sklearn.svm import SVR\n",
        "from sklearn.metrics import mean_squared_error, r2_score\n",
        "from sklearn.decomposition import PCA\n",
        "from sklearn.feature_selection import SelectKBest, SelectPercentile, f_regression\n",
        "from sklearn.ensemble import RandomForestRegressor\n",
        "from sklearn.linear_model import Lasso, ElasticNet"
      ],
      "metadata": {
        "id": "OuNPT4vFVBaB"
      },
      "execution_count": 22,
      "outputs": []
    },
    {
      "cell_type": "code",
      "source": [
        "df = pd.read_csv(\"/content/drive/MyDrive/BRAIN_CANCER (1).csv\")\n",
        "df.head()\n",
        "df.info()\n",
        "df.isna().sum()\n",
        "categorical_columns = df.select_dtypes(include=['object'])\n",
        "print(categorical_columns)\n",
        "df=df.drop(['ID','KPS','PsP_TP_score'],axis=1)\n",
        "print(df['Survival_from_surgery_days'].unique())\n",
        "df = df[df['Survival_from_surgery_days'] != 'Not Available']\n",
        "df = df.drop(df.columns[[0,1]], axis=1)\n",
        "df = pd.get_dummies(df, columns=['Gender', 'IDH1', 'MGMT', 'GTR_over90percent'])\n",
        "df['Survival_from_surgery_days'] = pd.to_numeric(df['Survival_from_surgery_days'])"
      ],
      "metadata": {
        "colab": {
          "base_uri": "https://localhost:8080/"
        },
        "id": "GUcav_1mVBWO",
        "outputId": "61cd0a97-4e0a-4184-afb5-bc6635b3b825"
      },
      "execution_count": 23,
      "outputs": [
        {
          "output_type": "stream",
          "name": "stdout",
          "text": [
            "<class 'pandas.core.frame.DataFrame'>\n",
            "RangeIndex: 600 entries, 0 to 599\n",
            "Columns: 1740 entries, Unnamed: 0.1 to PsP_TP_score\n",
            "dtypes: float64(1167), int64(566), object(7)\n",
            "memory usage: 8.0+ MB\n",
            "                     ID Gender Survival_from_surgery_days      IDH1  \\\n",
            "0    UPENN-GBM-00002_11      F                        291  Wildtype   \n",
            "1    UPENN-GBM-00003_11      M              Not Available  Wildtype   \n",
            "2    UPENN-GBM-00005_11      M              Not Available  Wildtype   \n",
            "3    UPENN-GBM-00006_11      M                        626  Wildtype   \n",
            "4    UPENN-GBM-00007_11      M              Not Available  Wildtype   \n",
            "..                  ...    ...                        ...       ...   \n",
            "595  UPENN-GBM-00607_11      F              Not Available  Wildtype   \n",
            "596  UPENN-GBM-00608_11      F              Not Available  Wildtype   \n",
            "597  UPENN-GBM-00609_11      M                        138  Wildtype   \n",
            "598  UPENN-GBM-00610_11      M              Not Available   Mutated   \n",
            "599  UPENN-GBM-00611_11      M                        551  Wildtype   \n",
            "\n",
            "              MGMT            KPS GTR_over90percent  \n",
            "0    Not Available  Not Available                 Y  \n",
            "1    Not Available  Not Available                 Y  \n",
            "2    Not Available  Not Available                 Y  \n",
            "3    Not Available  Not Available                 Y  \n",
            "4    Not Available  Not Available                 Y  \n",
            "..             ...            ...               ...  \n",
            "595     Methylated  Not Available                 N  \n",
            "596     Methylated  Not Available                 N  \n",
            "597   Unmethylated  Not Available                 N  \n",
            "598  Not Available  Not Available     Not Available  \n",
            "599  Not Available  Not Available                 N  \n",
            "\n",
            "[600 rows x 7 columns]\n",
            "['291' 'Not Available' '626' '469' '561' '798' '472' '272' '509' '1297'\n",
            " '1170' '425' '510' '363' '1504' '502' '2207' '707' '364' '360' '598'\n",
            " '172' '412' '369' '445' '427' '493' '296' '278' '54' '583' '351' '333'\n",
            " '146' '334' '200' '616' '20' '205' '339' '106' '32' '104' '173' '494'\n",
            " '479' '1302' '87' '30' '84' '226' '284' '735' '852' '879' '211' '320'\n",
            " '1527' '208' '664' '528' '411' '270' '1178' '80' '604' '233' '618' '209'\n",
            " '359' '152' '388' '457' '1615' '56' '276' '382' '1356' '12' '21' '1227'\n",
            " '277' '586' '622' '155' '393' '182' '138' '379' '1148' '78' '1791' '167'\n",
            " '443' '349' '400' '115' '193' '48' '580' '1145' '390' '58' '739' '1021'\n",
            " '454' '403' '77' '409' '112' '74' '684' '996' '613' '142' '538' '416'\n",
            " '240' '524' '319' '730' '516' '373' '1020' '93' '336' '342' '503' '688'\n",
            " '1410' '374' '82' '117' '264' '692' '882' '1882' '464' '437' '673' '392'\n",
            " '1152' '111' '389' '553' '158' '24' '44' '1475' '383' '289' '578' '1525'\n",
            " '766' '721' '990' '171' '831' '922' '744' '733' '742' '235' '557' '1193'\n",
            " '94' '23' '505' '846' '98' '154' '1829' '1346' '136' '51' '250' '168'\n",
            " '1008' '591' '122' '301' '3' '73' '453' '438' '16' '187' '370' '253'\n",
            " '480' '419' '420' '201' '460' '796' '1062' '537' '473' '550' '429' '781'\n",
            " '31' '530' '29' '127' '696' '326' '466' '186' '148' '653' '1451' '658'\n",
            " '428' '92' '165' '1034' '75' '489' '1723' '710' '683' '79' '121' '185'\n",
            " '368' '125' '341' '304' '748' '558' '159' '282' '13' '385' '1483' '325'\n",
            " '355' '60' '149' '617' '252' '404' '376' '589' '451' '114' '63' '14'\n",
            " '498' '216' '455' '322' '338' '635' '191' '57' '565' '423' '531' '862'\n",
            " '827' '249' '100' '1863' '518' '765' '303' '820' '582' '70' '619' '90'\n",
            " '248' '288' '764' '680' '693' '738' '651' '251' '196' '316' '36' '256'\n",
            " '601' '610' '192' '371' '395' '175' '821' '397' '482' '483' '681' '859'\n",
            " '648' '596' '1025' '99' '572' '496' '50' '1205' '170' '188' '285' '468'\n",
            " '199' '53' '157' '85' '521' '448' '497' '784' '215' '462' '343' '471'\n",
            " '414' '7' '37' '356' '490' '166' '384' '302' '434' '350' '430' '449'\n",
            " '273' '33' '259' '81' '203' '234' '153' '440' '324' '123' '147' '61' '26'\n",
            " '297' '59' '223' '46' '381' '435' '551']\n"
          ]
        }
      ]
    },
    {
      "cell_type": "code",
      "source": [
        "df = df.fillna(df.mean())\n"
      ],
      "metadata": {
        "id": "uRuJ1MZwVBS1"
      },
      "execution_count": 29,
      "outputs": []
    },
    {
      "cell_type": "code",
      "source": [
        "from scipy.stats import zscore\n",
        "\n",
        "# Compute the z-scores of numeric features\n",
        "z_scores = zscore(df)\n",
        "\n",
        "# Identify outliers based on a threshold\n",
        "threshold = 2\n",
        "outliers = np.abs(z_scores) > threshold\n",
        "\n",
        "# Remove outliers by filtering the DataFrame\n",
        "df = df[~outliers]\n",
        "\n",
        "from sklearn.impute import SimpleImputer\n",
        "\n",
        "imputer = SimpleImputer(strategy='mean')\n",
        "\n",
        "# Fit the imputer on the data\n",
        "imputer.fit(df)\n",
        "\n",
        "# Impute missing values\n",
        "df = pd.DataFrame(imputer.transform(df), columns=df.columns)\n"
      ],
      "metadata": {
        "id": "i0kfHknCVBQy"
      },
      "execution_count": 32,
      "outputs": []
    },
    {
      "cell_type": "code",
      "source": [
        "df.head()"
      ],
      "metadata": {
        "colab": {
          "base_uri": "https://localhost:8080/",
          "height": 317
        },
        "id": "IZlnmlNIVBNQ",
        "outputId": "090123fb-a567-4128-b779-4b37aaf359ef"
      },
      "execution_count": 33,
      "outputs": [
        {
          "output_type": "execute_result",
          "data": {
            "text/plain": [
              "   T1_ED_Intensity_CoefficientOfVariation  T1_ED_Intensity_Energy  \\\n",
              "0                                0.166209            1.063257e+09   \n",
              "1                                0.150632            7.654425e+08   \n",
              "2                                0.083001            7.632825e+08   \n",
              "3                                0.153633            1.834986e+09   \n",
              "4                                0.136548            1.475727e+09   \n",
              "\n",
              "   T1_ED_Intensity_InterQuartileRange  T1_ED_Intensity_Kurtosis  \\\n",
              "0                                34.0                  3.214771   \n",
              "1                                24.0                  3.344714   \n",
              "2                                18.0                  3.922620   \n",
              "3                                25.0                  3.438159   \n",
              "4                                25.0                  3.447739   \n",
              "\n",
              "   T1_ED_Intensity_Maximum  T1_ED_Intensity_Mean  \\\n",
              "0                    235.0            147.193603   \n",
              "1                    197.0            120.907615   \n",
              "2                    214.0            170.916185   \n",
              "3                    213.0            125.606402   \n",
              "4                    217.0            137.263974   \n",
              "\n",
              "   T1_ED_Intensity_MeanAbsoluteDeviation  T1_ED_Intensity_Median  \\\n",
              "0                          -3.150000e-12                   145.0   \n",
              "1                          -4.050000e-12                   118.0   \n",
              "2                           1.560000e-12                   171.0   \n",
              "3                           1.221882e-13                   123.0   \n",
              "4                          -1.020000e-13                   133.0   \n",
              "\n",
              "   T1_ED_Intensity_MedianAbsoluteDeviation  T1_ED_Intensity_Minimum  ...  \\\n",
              "0                                 2.193603                      0.0  ...   \n",
              "1                                 2.907615                     50.0  ...   \n",
              "2                                -0.083815                     84.0  ...   \n",
              "3                                 2.606402                      0.0  ...   \n",
              "4                                 0.655683                     53.0  ...   \n",
              "\n",
              "   IDH1_Mutated  IDH1_NOS/NEC  IDH1_Wildtype  MGMT_Indeterminate  \\\n",
              "0           0.0           0.0            1.0                 0.0   \n",
              "1           0.0           0.0            1.0                 0.0   \n",
              "2           0.0           0.0            1.0                 0.0   \n",
              "3           0.0           0.0            1.0                 0.0   \n",
              "4           0.0           0.0            1.0                 0.0   \n",
              "\n",
              "   MGMT_Methylated  MGMT_Not Available  MGMT_Unmethylated  \\\n",
              "0              0.0                 1.0                0.0   \n",
              "1              0.0                 1.0                0.0   \n",
              "2              0.0                 1.0                0.0   \n",
              "3              0.0                 1.0                0.0   \n",
              "4              0.0                 1.0                0.0   \n",
              "\n",
              "   GTR_over90percent_N  GTR_over90percent_Not Available  GTR_over90percent_Y  \n",
              "0                  0.0                              0.0                  1.0  \n",
              "1                  0.0                              0.0                  1.0  \n",
              "2                  0.0                              0.0                  1.0  \n",
              "3                  0.0                              0.0                  1.0  \n",
              "4                  0.0                              0.0                  1.0  \n",
              "\n",
              "[5 rows x 1743 columns]"
            ],
            "text/html": [
              "\n",
              "  <div id=\"df-52308a9b-8e50-4547-a8de-1595b1fe2f48\">\n",
              "    <div class=\"colab-df-container\">\n",
              "      <div>\n",
              "<style scoped>\n",
              "    .dataframe tbody tr th:only-of-type {\n",
              "        vertical-align: middle;\n",
              "    }\n",
              "\n",
              "    .dataframe tbody tr th {\n",
              "        vertical-align: top;\n",
              "    }\n",
              "\n",
              "    .dataframe thead th {\n",
              "        text-align: right;\n",
              "    }\n",
              "</style>\n",
              "<table border=\"1\" class=\"dataframe\">\n",
              "  <thead>\n",
              "    <tr style=\"text-align: right;\">\n",
              "      <th></th>\n",
              "      <th>T1_ED_Intensity_CoefficientOfVariation</th>\n",
              "      <th>T1_ED_Intensity_Energy</th>\n",
              "      <th>T1_ED_Intensity_InterQuartileRange</th>\n",
              "      <th>T1_ED_Intensity_Kurtosis</th>\n",
              "      <th>T1_ED_Intensity_Maximum</th>\n",
              "      <th>T1_ED_Intensity_Mean</th>\n",
              "      <th>T1_ED_Intensity_MeanAbsoluteDeviation</th>\n",
              "      <th>T1_ED_Intensity_Median</th>\n",
              "      <th>T1_ED_Intensity_MedianAbsoluteDeviation</th>\n",
              "      <th>T1_ED_Intensity_Minimum</th>\n",
              "      <th>...</th>\n",
              "      <th>IDH1_Mutated</th>\n",
              "      <th>IDH1_NOS/NEC</th>\n",
              "      <th>IDH1_Wildtype</th>\n",
              "      <th>MGMT_Indeterminate</th>\n",
              "      <th>MGMT_Methylated</th>\n",
              "      <th>MGMT_Not Available</th>\n",
              "      <th>MGMT_Unmethylated</th>\n",
              "      <th>GTR_over90percent_N</th>\n",
              "      <th>GTR_over90percent_Not Available</th>\n",
              "      <th>GTR_over90percent_Y</th>\n",
              "    </tr>\n",
              "  </thead>\n",
              "  <tbody>\n",
              "    <tr>\n",
              "      <th>0</th>\n",
              "      <td>0.166209</td>\n",
              "      <td>1.063257e+09</td>\n",
              "      <td>34.0</td>\n",
              "      <td>3.214771</td>\n",
              "      <td>235.0</td>\n",
              "      <td>147.193603</td>\n",
              "      <td>-3.150000e-12</td>\n",
              "      <td>145.0</td>\n",
              "      <td>2.193603</td>\n",
              "      <td>0.0</td>\n",
              "      <td>...</td>\n",
              "      <td>0.0</td>\n",
              "      <td>0.0</td>\n",
              "      <td>1.0</td>\n",
              "      <td>0.0</td>\n",
              "      <td>0.0</td>\n",
              "      <td>1.0</td>\n",
              "      <td>0.0</td>\n",
              "      <td>0.0</td>\n",
              "      <td>0.0</td>\n",
              "      <td>1.0</td>\n",
              "    </tr>\n",
              "    <tr>\n",
              "      <th>1</th>\n",
              "      <td>0.150632</td>\n",
              "      <td>7.654425e+08</td>\n",
              "      <td>24.0</td>\n",
              "      <td>3.344714</td>\n",
              "      <td>197.0</td>\n",
              "      <td>120.907615</td>\n",
              "      <td>-4.050000e-12</td>\n",
              "      <td>118.0</td>\n",
              "      <td>2.907615</td>\n",
              "      <td>50.0</td>\n",
              "      <td>...</td>\n",
              "      <td>0.0</td>\n",
              "      <td>0.0</td>\n",
              "      <td>1.0</td>\n",
              "      <td>0.0</td>\n",
              "      <td>0.0</td>\n",
              "      <td>1.0</td>\n",
              "      <td>0.0</td>\n",
              "      <td>0.0</td>\n",
              "      <td>0.0</td>\n",
              "      <td>1.0</td>\n",
              "    </tr>\n",
              "    <tr>\n",
              "      <th>2</th>\n",
              "      <td>0.083001</td>\n",
              "      <td>7.632825e+08</td>\n",
              "      <td>18.0</td>\n",
              "      <td>3.922620</td>\n",
              "      <td>214.0</td>\n",
              "      <td>170.916185</td>\n",
              "      <td>1.560000e-12</td>\n",
              "      <td>171.0</td>\n",
              "      <td>-0.083815</td>\n",
              "      <td>84.0</td>\n",
              "      <td>...</td>\n",
              "      <td>0.0</td>\n",
              "      <td>0.0</td>\n",
              "      <td>1.0</td>\n",
              "      <td>0.0</td>\n",
              "      <td>0.0</td>\n",
              "      <td>1.0</td>\n",
              "      <td>0.0</td>\n",
              "      <td>0.0</td>\n",
              "      <td>0.0</td>\n",
              "      <td>1.0</td>\n",
              "    </tr>\n",
              "    <tr>\n",
              "      <th>3</th>\n",
              "      <td>0.153633</td>\n",
              "      <td>1.834986e+09</td>\n",
              "      <td>25.0</td>\n",
              "      <td>3.438159</td>\n",
              "      <td>213.0</td>\n",
              "      <td>125.606402</td>\n",
              "      <td>1.221882e-13</td>\n",
              "      <td>123.0</td>\n",
              "      <td>2.606402</td>\n",
              "      <td>0.0</td>\n",
              "      <td>...</td>\n",
              "      <td>0.0</td>\n",
              "      <td>0.0</td>\n",
              "      <td>1.0</td>\n",
              "      <td>0.0</td>\n",
              "      <td>0.0</td>\n",
              "      <td>1.0</td>\n",
              "      <td>0.0</td>\n",
              "      <td>0.0</td>\n",
              "      <td>0.0</td>\n",
              "      <td>1.0</td>\n",
              "    </tr>\n",
              "    <tr>\n",
              "      <th>4</th>\n",
              "      <td>0.136548</td>\n",
              "      <td>1.475727e+09</td>\n",
              "      <td>25.0</td>\n",
              "      <td>3.447739</td>\n",
              "      <td>217.0</td>\n",
              "      <td>137.263974</td>\n",
              "      <td>-1.020000e-13</td>\n",
              "      <td>133.0</td>\n",
              "      <td>0.655683</td>\n",
              "      <td>53.0</td>\n",
              "      <td>...</td>\n",
              "      <td>0.0</td>\n",
              "      <td>0.0</td>\n",
              "      <td>1.0</td>\n",
              "      <td>0.0</td>\n",
              "      <td>0.0</td>\n",
              "      <td>1.0</td>\n",
              "      <td>0.0</td>\n",
              "      <td>0.0</td>\n",
              "      <td>0.0</td>\n",
              "      <td>1.0</td>\n",
              "    </tr>\n",
              "  </tbody>\n",
              "</table>\n",
              "<p>5 rows × 1743 columns</p>\n",
              "</div>\n",
              "      <button class=\"colab-df-convert\" onclick=\"convertToInteractive('df-52308a9b-8e50-4547-a8de-1595b1fe2f48')\"\n",
              "              title=\"Convert this dataframe to an interactive table.\"\n",
              "              style=\"display:none;\">\n",
              "        \n",
              "  <svg xmlns=\"http://www.w3.org/2000/svg\" height=\"24px\"viewBox=\"0 0 24 24\"\n",
              "       width=\"24px\">\n",
              "    <path d=\"M0 0h24v24H0V0z\" fill=\"none\"/>\n",
              "    <path d=\"M18.56 5.44l.94 2.06.94-2.06 2.06-.94-2.06-.94-.94-2.06-.94 2.06-2.06.94zm-11 1L8.5 8.5l.94-2.06 2.06-.94-2.06-.94L8.5 2.5l-.94 2.06-2.06.94zm10 10l.94 2.06.94-2.06 2.06-.94-2.06-.94-.94-2.06-.94 2.06-2.06.94z\"/><path d=\"M17.41 7.96l-1.37-1.37c-.4-.4-.92-.59-1.43-.59-.52 0-1.04.2-1.43.59L10.3 9.45l-7.72 7.72c-.78.78-.78 2.05 0 2.83L4 21.41c.39.39.9.59 1.41.59.51 0 1.02-.2 1.41-.59l7.78-7.78 2.81-2.81c.8-.78.8-2.07 0-2.86zM5.41 20L4 18.59l7.72-7.72 1.47 1.35L5.41 20z\"/>\n",
              "  </svg>\n",
              "      </button>\n",
              "      \n",
              "  <style>\n",
              "    .colab-df-container {\n",
              "      display:flex;\n",
              "      flex-wrap:wrap;\n",
              "      gap: 12px;\n",
              "    }\n",
              "\n",
              "    .colab-df-convert {\n",
              "      background-color: #E8F0FE;\n",
              "      border: none;\n",
              "      border-radius: 50%;\n",
              "      cursor: pointer;\n",
              "      display: none;\n",
              "      fill: #1967D2;\n",
              "      height: 32px;\n",
              "      padding: 0 0 0 0;\n",
              "      width: 32px;\n",
              "    }\n",
              "\n",
              "    .colab-df-convert:hover {\n",
              "      background-color: #E2EBFA;\n",
              "      box-shadow: 0px 1px 2px rgba(60, 64, 67, 0.3), 0px 1px 3px 1px rgba(60, 64, 67, 0.15);\n",
              "      fill: #174EA6;\n",
              "    }\n",
              "\n",
              "    [theme=dark] .colab-df-convert {\n",
              "      background-color: #3B4455;\n",
              "      fill: #D2E3FC;\n",
              "    }\n",
              "\n",
              "    [theme=dark] .colab-df-convert:hover {\n",
              "      background-color: #434B5C;\n",
              "      box-shadow: 0px 1px 3px 1px rgba(0, 0, 0, 0.15);\n",
              "      filter: drop-shadow(0px 1px 2px rgba(0, 0, 0, 0.3));\n",
              "      fill: #FFFFFF;\n",
              "    }\n",
              "  </style>\n",
              "\n",
              "      <script>\n",
              "        const buttonEl =\n",
              "          document.querySelector('#df-52308a9b-8e50-4547-a8de-1595b1fe2f48 button.colab-df-convert');\n",
              "        buttonEl.style.display =\n",
              "          google.colab.kernel.accessAllowed ? 'block' : 'none';\n",
              "\n",
              "        async function convertToInteractive(key) {\n",
              "          const element = document.querySelector('#df-52308a9b-8e50-4547-a8de-1595b1fe2f48');\n",
              "          const dataTable =\n",
              "            await google.colab.kernel.invokeFunction('convertToInteractive',\n",
              "                                                     [key], {});\n",
              "          if (!dataTable) return;\n",
              "\n",
              "          const docLinkHtml = 'Like what you see? Visit the ' +\n",
              "            '<a target=\"_blank\" href=https://colab.research.google.com/notebooks/data_table.ipynb>data table notebook</a>'\n",
              "            + ' to learn more about interactive tables.';\n",
              "          element.innerHTML = '';\n",
              "          dataTable['output_type'] = 'display_data';\n",
              "          await google.colab.output.renderOutput(dataTable, element);\n",
              "          const docLink = document.createElement('div');\n",
              "          docLink.innerHTML = docLinkHtml;\n",
              "          element.appendChild(docLink);\n",
              "        }\n",
              "      </script>\n",
              "    </div>\n",
              "  </div>\n",
              "  "
            ]
          },
          "metadata": {},
          "execution_count": 33
        }
      ]
    },
    {
      "cell_type": "code",
      "source": [
        "from sklearn.model_selection import train_test_split\n",
        "\n",
        "# Separate the target variable and the features\n",
        "y = df['Survival_from_surgery_days']\n",
        "X = df.drop(columns=['Survival_from_surgery_days'])\n",
        "\n",
        "# Split the data into training and test sets\n",
        "X_train, X_test, y_train, y_test = train_test_split(X, y, test_size=0.2, random_state=42)"
      ],
      "metadata": {
        "id": "7hZD9KxOVBB4"
      },
      "execution_count": 34,
      "outputs": []
    },
    {
      "cell_type": "code",
      "source": [
        "from sklearn.feature_selection import SelectKBest, f_regression\n",
        "\n",
        "# Select the top k features based on F-test\n",
        "k = 12\n",
        "selector = SelectKBest(score_func=f_regression, k=k)\n",
        "x_train_selected = selector.fit_transform(X_train, y_train)\n",
        "x_test_selected = selector.transform(X_test)\n",
        "\n",
        "selected_indices = selector.get_support(indices=True)\n",
        "selected_columns = X_train.columns[selected_indices]\n",
        "print(selected_columns)"
      ],
      "metadata": {
        "colab": {
          "base_uri": "https://localhost:8080/"
        },
        "id": "VB6Mpf8QVA57",
        "outputId": "2e33910c-53b8-47c4-b919-bd46d92d22cd"
      },
      "execution_count": 41,
      "outputs": [
        {
          "output_type": "stream",
          "name": "stdout",
          "text": [
            "Index(['T1_ET_Morphologic_EllipseDiameter_Axis-2',\n",
            "       'T2_ED_Histogram_Bins-16_Bins-16_Median',\n",
            "       'T2_ED_Histogram_Bins-16_Bins-16_SeventyFifthPercentile',\n",
            "       'T2_ET_Morphologic_EllipseDiameter_Axis-2',\n",
            "       'FLAIR_ET_Histogram_Bins-16_Bins-16_Bin-15_Probability',\n",
            "       'FLAIR_ET_Morphologic_EllipseDiameter_Axis-2',\n",
            "       'FLAIR_NC_GLRLM_Bins-16_Radius-1_ShortRunEmphasis',\n",
            "       'T1GD_ET_Morphologic_EllipseDiameter_Axis-2',\n",
            "       'T1GD_ET_GLCM_Bins-16_Radius-1_ClusterProminence', 'Age_at_scan_years',\n",
            "       'GTR_over90percent_N', 'GTR_over90percent_Y'],\n",
            "      dtype='object')\n"
          ]
        }
      ]
    },
    {
      "cell_type": "code",
      "source": [
        "from sklearn.model_selection import GridSearchCV\n",
        "from sklearn.ensemble import RandomForestRegressor\n",
        "\n",
        "# Define the parameter grid\n",
        "param_grid = {\n",
        "    'n_estimators': [100, 200, 300],\n",
        "    'max_depth': [None, 5, 10],\n",
        "    'min_samples_split': [2, 5, 10]\n",
        "}\n",
        "\n",
        "# Create the GridSearchCV object\n",
        "grid_search = GridSearchCV(RandomForestRegressor(), param_grid, cv=5)\n",
        "\n",
        "# Fit the GridSearchCV object to find the best hyperparameters\n",
        "grid_search.fit(x_train_selected, y_train)\n",
        "\n",
        "# Get the best hyperparameters\n",
        "best_params = grid_search.best_params_\n",
        "\n",
        "\n",
        "from sklearn.ensemble import RandomForestRegressor, GradientBoostingRegressor\n",
        "\n",
        "# Random Forest Regressor\n",
        "rf = RandomForestRegressor(n_estimators=100)\n",
        "rf.fit(x_train_selected, y_train)\n",
        "\n",
        "# Gradient Boosting Regressor\n",
        "gb = GradientBoostingRegressor(n_estimators=100)\n",
        "gb.fit(x_train_selected, y_train)\n"
      ],
      "metadata": {
        "colab": {
          "base_uri": "https://localhost:8080/",
          "height": 75
        },
        "id": "EyTNNZYdXf2h",
        "outputId": "4dde2a5d-3b06-467b-8d6e-4c04af70618e"
      },
      "execution_count": 42,
      "outputs": [
        {
          "output_type": "execute_result",
          "data": {
            "text/plain": [
              "GradientBoostingRegressor()"
            ],
            "text/html": [
              "<style>#sk-container-id-3 {color: black;background-color: white;}#sk-container-id-3 pre{padding: 0;}#sk-container-id-3 div.sk-toggleable {background-color: white;}#sk-container-id-3 label.sk-toggleable__label {cursor: pointer;display: block;width: 100%;margin-bottom: 0;padding: 0.3em;box-sizing: border-box;text-align: center;}#sk-container-id-3 label.sk-toggleable__label-arrow:before {content: \"▸\";float: left;margin-right: 0.25em;color: #696969;}#sk-container-id-3 label.sk-toggleable__label-arrow:hover:before {color: black;}#sk-container-id-3 div.sk-estimator:hover label.sk-toggleable__label-arrow:before {color: black;}#sk-container-id-3 div.sk-toggleable__content {max-height: 0;max-width: 0;overflow: hidden;text-align: left;background-color: #f0f8ff;}#sk-container-id-3 div.sk-toggleable__content pre {margin: 0.2em;color: black;border-radius: 0.25em;background-color: #f0f8ff;}#sk-container-id-3 input.sk-toggleable__control:checked~div.sk-toggleable__content {max-height: 200px;max-width: 100%;overflow: auto;}#sk-container-id-3 input.sk-toggleable__control:checked~label.sk-toggleable__label-arrow:before {content: \"▾\";}#sk-container-id-3 div.sk-estimator input.sk-toggleable__control:checked~label.sk-toggleable__label {background-color: #d4ebff;}#sk-container-id-3 div.sk-label input.sk-toggleable__control:checked~label.sk-toggleable__label {background-color: #d4ebff;}#sk-container-id-3 input.sk-hidden--visually {border: 0;clip: rect(1px 1px 1px 1px);clip: rect(1px, 1px, 1px, 1px);height: 1px;margin: -1px;overflow: hidden;padding: 0;position: absolute;width: 1px;}#sk-container-id-3 div.sk-estimator {font-family: monospace;background-color: #f0f8ff;border: 1px dotted black;border-radius: 0.25em;box-sizing: border-box;margin-bottom: 0.5em;}#sk-container-id-3 div.sk-estimator:hover {background-color: #d4ebff;}#sk-container-id-3 div.sk-parallel-item::after {content: \"\";width: 100%;border-bottom: 1px solid gray;flex-grow: 1;}#sk-container-id-3 div.sk-label:hover label.sk-toggleable__label {background-color: #d4ebff;}#sk-container-id-3 div.sk-serial::before {content: \"\";position: absolute;border-left: 1px solid gray;box-sizing: border-box;top: 0;bottom: 0;left: 50%;z-index: 0;}#sk-container-id-3 div.sk-serial {display: flex;flex-direction: column;align-items: center;background-color: white;padding-right: 0.2em;padding-left: 0.2em;position: relative;}#sk-container-id-3 div.sk-item {position: relative;z-index: 1;}#sk-container-id-3 div.sk-parallel {display: flex;align-items: stretch;justify-content: center;background-color: white;position: relative;}#sk-container-id-3 div.sk-item::before, #sk-container-id-3 div.sk-parallel-item::before {content: \"\";position: absolute;border-left: 1px solid gray;box-sizing: border-box;top: 0;bottom: 0;left: 50%;z-index: -1;}#sk-container-id-3 div.sk-parallel-item {display: flex;flex-direction: column;z-index: 1;position: relative;background-color: white;}#sk-container-id-3 div.sk-parallel-item:first-child::after {align-self: flex-end;width: 50%;}#sk-container-id-3 div.sk-parallel-item:last-child::after {align-self: flex-start;width: 50%;}#sk-container-id-3 div.sk-parallel-item:only-child::after {width: 0;}#sk-container-id-3 div.sk-dashed-wrapped {border: 1px dashed gray;margin: 0 0.4em 0.5em 0.4em;box-sizing: border-box;padding-bottom: 0.4em;background-color: white;}#sk-container-id-3 div.sk-label label {font-family: monospace;font-weight: bold;display: inline-block;line-height: 1.2em;}#sk-container-id-3 div.sk-label-container {text-align: center;}#sk-container-id-3 div.sk-container {/* jupyter's `normalize.less` sets `[hidden] { display: none; }` but bootstrap.min.css set `[hidden] { display: none !important; }` so we also need the `!important` here to be able to override the default hidden behavior on the sphinx rendered scikit-learn.org. See: https://github.com/scikit-learn/scikit-learn/issues/21755 */display: inline-block !important;position: relative;}#sk-container-id-3 div.sk-text-repr-fallback {display: none;}</style><div id=\"sk-container-id-3\" class=\"sk-top-container\"><div class=\"sk-text-repr-fallback\"><pre>GradientBoostingRegressor()</pre><b>In a Jupyter environment, please rerun this cell to show the HTML representation or trust the notebook. <br />On GitHub, the HTML representation is unable to render, please try loading this page with nbviewer.org.</b></div><div class=\"sk-container\" hidden><div class=\"sk-item\"><div class=\"sk-estimator sk-toggleable\"><input class=\"sk-toggleable__control sk-hidden--visually\" id=\"sk-estimator-id-3\" type=\"checkbox\" checked><label for=\"sk-estimator-id-3\" class=\"sk-toggleable__label sk-toggleable__label-arrow\">GradientBoostingRegressor</label><div class=\"sk-toggleable__content\"><pre>GradientBoostingRegressor()</pre></div></div></div></div></div>"
            ]
          },
          "metadata": {},
          "execution_count": 42
        }
      ]
    },
    {
      "cell_type": "code",
      "source": [
        "from sklearn.preprocessing import RobustScaler\n",
        "\n",
        "# Create a scaler object\n",
        "scaler = RobustScaler()\n",
        "\n",
        "# Fit the scaler on the training data\n",
        "scaler.fit(x_train_selected)\n",
        "\n",
        "# Scale the features\n",
        "X_train_scaled = scaler.transform(x_train_selected)\n",
        "X_test_scaled = scaler.transform(x_test_selected)\n"
      ],
      "metadata": {
        "id": "xRkY59TbXf0j"
      },
      "execution_count": 43,
      "outputs": []
    },
    {
      "cell_type": "code",
      "source": [
        "X_train_scaled.shape"
      ],
      "metadata": {
        "colab": {
          "base_uri": "https://localhost:8080/"
        },
        "id": "63-Ze2IyXfxB",
        "outputId": "8f51a590-309a-4528-fe8f-131534ef8824"
      },
      "execution_count": 45,
      "outputs": [
        {
          "output_type": "execute_result",
          "data": {
            "text/plain": [
              "(356, 12)"
            ]
          },
          "metadata": {},
          "execution_count": 45
        }
      ]
    },
    {
      "cell_type": "code",
      "source": [
        "from sklearn.svm import SVR\n",
        "from sklearn.metrics import mean_squared_error, r2_score\n",
        "\n",
        "# Create an SVR model\n",
        "model = SVR()\n",
        "\n",
        "# Train the model on the scaled training data\n",
        "model.fit(X_train_scaled, y_train)\n",
        "\n",
        "# Make predictions on the test data\n",
        "y_pred = model.predict(X_test_scaled)\n",
        "\n",
        "\n"
      ],
      "metadata": {
        "colab": {
          "base_uri": "https://localhost:8080/"
        },
        "id": "Kn56C6BPXfu0",
        "outputId": "fd949384-0b49-465d-ea60-a5a68980a25a"
      },
      "execution_count": 44,
      "outputs": [
        {
          "output_type": "stream",
          "name": "stdout",
          "text": [
            "Mean Squared Error: 33613.9370237869\n",
            "R-squared Score: 0.032214727709378055\n"
          ]
        }
      ]
    },
    {
      "cell_type": "code",
      "source": [
        "\n",
        "\n",
        "max_value = df['T1_ET_Morphologic_EllipseDiameter_Axis-2'].max()\n",
        "min_value = df['T1_ET_Morphologic_EllipseDiameter_Axis-2'].min()\n",
        "\n",
        "print(\"Maximum value of 'T1_ET_Morphologic_EllipseDiameter_Axis-2':\", max_value)\n",
        "print(\"Minimum value of 'T1_ET_Morphologic_EllipseDiameter_Axis-2':\", min_value)\n",
        "\n",
        "max_value = df['T2_ED_Histogram_Bins-16_Bins-16_Median'].max()\n",
        "min_value = df['T2_ED_Histogram_Bins-16_Bins-16_Median'].min()\n",
        "\n",
        "print(\"Maximum value of 'T2_ED_Histogram_Bins-16_Bins-16_Median':\", max_value)\n",
        "print(\"Minimum value of 'T2_ED_Histogram_Bins-16_Bins-16_Median':\", min_value)\n",
        "\n",
        "max_value = df['T2_ET_Histogram_Bins-16_Bins-16_Bin-14_Probability'].max()\n",
        "min_value = df['T2_ET_Histogram_Bins-16_Bins-16_Bin-14_Probability'].min()\n",
        "\n",
        "print(\"Maximum value of 'T2_ET_Histogram_Bins-16_Bins-16_Bin-14_Probability':\", max_value)\n",
        "print(\"Minimum value of 'T2_ET_Histogram_Bins-16_Bins-16_Bin-14_Probability':\", min_value)\n",
        "\n",
        "max_value = df['T2_ET_Histogram_Bins-16_Bins-16_Bin-15_Probability'].max()\n",
        "min_value = df['T2_ET_Histogram_Bins-16_Bins-16_Bin-15_Probability'].min()\n",
        "\n",
        "print(\"Maximum value of 'T2_ET_Histogram_Bins-16_Bins-16_Bin-15_Probability':\", max_value)\n",
        "print(\"Minimum value of 'T2_ET_Histogram_Bins-16_Bins-16_Bin-15_Probability':\", min_value)\n",
        "\n",
        "max_value = df['T2_ET_Morphologic_EllipseDiameter_Axis-2'].max()\n",
        "min_value = df['T2_ET_Morphologic_EllipseDiameter_Axis-2'].min()\n",
        "\n",
        "print(\"Maximum value of 'T2_ET_Morphologic_EllipseDiameter_Axis-2':\", max_value)\n",
        "print(\"Minimum value of 'T2_ET_Morphologic_EllipseDiameter_Axis-2':\", min_value)\n",
        "\n",
        "max_value = df['FLAIR_ET_Morphologic_EllipseDiameter_Axis-2'].max()\n",
        "min_value = df['FLAIR_ET_Morphologic_EllipseDiameter_Axis-2'].min()\n",
        "\n",
        "print(\"Maximum value of 'FLAIR_ET_Morphologic_EllipseDiameter_Axis-2':\", max_value)\n",
        "print(\"Minimum value of 'FLAIR_ET_Morphologic_EllipseDiameter_Axis-2':\", min_value)\n",
        "\n",
        "max_value = df['FLAIR_NC_GLRLM_Bins-16_Radius-1_LongRunEmphasis'].max()\n",
        "min_value = df['FLAIR_NC_GLRLM_Bins-16_Radius-1_LongRunEmphasis'].min()\n",
        "\n",
        "print(\"Maximum value of 'FLAIR_NC_GLRLM_Bins-16_Radius-1_LongRunEmphasis':\", max_value)\n",
        "print(\"Minimum value of 'FLAIR_NC_GLRLM_Bins-16_Radius-1_LongRunEmphasis':\", min_value)\n",
        "\n",
        "max_value = df['FLAIR_NC_GLRLM_Bins-16_Radius-1_ShortRunEmphasis'].max()\n",
        "min_value = df['FLAIR_NC_GLRLM_Bins-16_Radius-1_ShortRunEmphasis'].min()\n",
        "\n",
        "print(\"Maximum value of 'FLAIR_NC_GLRLM_Bins-16_Radius-1_ShortRunEmphasis':\", max_value)\n",
        "print(\"Minimum value of 'FLAIR_NC_GLRLM_Bins-16_Radius-1_ShortRunEmphasis':\", min_value)\n",
        "\n",
        "max_value = df['T1GD_ET_Morphologic_EllipseDiameter_Axis-2'].max()\n",
        "min_value = df['T1GD_ET_Morphologic_EllipseDiameter_Axis-2'].min()\n",
        "\n",
        "print(\"Maximum value of 'T1GD_ET_Morphologic_EllipseDiameter_Axis-2':\", max_value)\n",
        "print(\"Minimum value of 'T1GD_ET_Morphologic_EllipseDiameter_Axis-2':\", min_value)\n",
        "\n",
        "max_value = df['GTR_over90percent_N'].max()\n",
        "min_value = df['GTR_over90percent_N'].min()\n",
        "\n",
        "print(\"Maximum value of 'GTR_over90percent_N':\", max_value)\n",
        "print(\"Minimum value of 'GTR_over90percent_N':\", min_value)\n",
        "\n",
        "max_value = df['GTR_over90percent_Y'].max()\n",
        "min_value = df['GTR_over90percent_Y'].min()\n",
        "\n",
        "print(\"Maximum value of: 'GTR_over90percent_Y':\", max_value)\n",
        "print(\"Maximum value of: 'GTR_over90percent_Y':\", min_value)\n"
      ],
      "metadata": {
        "id": "3Yq3YFPsXftU"
      },
      "execution_count": null,
      "outputs": []
    },
    {
      "cell_type": "code",
      "source": [
        "new_data = RobustScaler.transform([[50, 2, 0.005, 0.009799118, 60, 58, 1.2, 0.95, 57, 80, 54, 47]])\n",
        "predicted_values = model.predict(new_data)\n",
        "print(predicted_values)\n"
      ],
      "metadata": {
        "colab": {
          "base_uri": "https://localhost:8080/",
          "height": 200
        },
        "id": "zRVMof6cXfrv",
        "outputId": "94aef721-5064-4152-8905-2a351a8db3c4"
      },
      "execution_count": 48,
      "outputs": [
        {
          "output_type": "error",
          "ename": "TypeError",
          "evalue": "ignored",
          "traceback": [
            "\u001b[0;31m---------------------------------------------------------------------------\u001b[0m",
            "\u001b[0;31mTypeError\u001b[0m                                 Traceback (most recent call last)",
            "\u001b[0;32m<ipython-input-48-d50ebc390edf>\u001b[0m in \u001b[0;36m<cell line: 1>\u001b[0;34m()\u001b[0m\n\u001b[0;32m----> 1\u001b[0;31m \u001b[0mnew_data\u001b[0m \u001b[0;34m=\u001b[0m \u001b[0mRobustScaler\u001b[0m\u001b[0;34m.\u001b[0m\u001b[0mtransform\u001b[0m\u001b[0;34m(\u001b[0m\u001b[0;34m[\u001b[0m\u001b[0;34m[\u001b[0m\u001b[0;36m50\u001b[0m\u001b[0;34m,\u001b[0m \u001b[0;36m2\u001b[0m\u001b[0;34m,\u001b[0m \u001b[0;36m0.005\u001b[0m\u001b[0;34m,\u001b[0m \u001b[0;36m0.009799118\u001b[0m\u001b[0;34m,\u001b[0m \u001b[0;36m60\u001b[0m\u001b[0;34m,\u001b[0m \u001b[0;36m58\u001b[0m\u001b[0;34m,\u001b[0m \u001b[0;36m1.2\u001b[0m\u001b[0;34m,\u001b[0m \u001b[0;36m0.95\u001b[0m\u001b[0;34m,\u001b[0m \u001b[0;36m57\u001b[0m\u001b[0;34m,\u001b[0m \u001b[0;36m80\u001b[0m\u001b[0;34m,\u001b[0m \u001b[0;36m54\u001b[0m\u001b[0;34m,\u001b[0m \u001b[0;36m47\u001b[0m\u001b[0;34m]\u001b[0m\u001b[0;34m]\u001b[0m\u001b[0;34m)\u001b[0m\u001b[0;34m\u001b[0m\u001b[0;34m\u001b[0m\u001b[0m\n\u001b[0m\u001b[1;32m      2\u001b[0m \u001b[0mpredicted_values\u001b[0m \u001b[0;34m=\u001b[0m \u001b[0mmodel\u001b[0m\u001b[0;34m.\u001b[0m\u001b[0mpredict\u001b[0m\u001b[0;34m(\u001b[0m\u001b[0mnew_data\u001b[0m\u001b[0;34m)\u001b[0m\u001b[0;34m\u001b[0m\u001b[0;34m\u001b[0m\u001b[0m\n\u001b[1;32m      3\u001b[0m \u001b[0mprint\u001b[0m\u001b[0;34m(\u001b[0m\u001b[0mpredicted_values\u001b[0m\u001b[0;34m)\u001b[0m\u001b[0;34m\u001b[0m\u001b[0;34m\u001b[0m\u001b[0m\n",
            "\u001b[0;31mTypeError\u001b[0m: RobustScaler.transform() missing 1 required positional argument: 'X'"
          ]
        }
      ]
    },
    {
      "cell_type": "code",
      "source": [],
      "metadata": {
        "id": "Q2n7bxIJXflX"
      },
      "execution_count": null,
      "outputs": []
    },
    {
      "cell_type": "code",
      "source": [],
      "metadata": {
        "id": "-Pg569aEXfiq"
      },
      "execution_count": null,
      "outputs": []
    },
    {
      "cell_type": "code",
      "source": [],
      "metadata": {
        "id": "zIt6PhuGXff_"
      },
      "execution_count": null,
      "outputs": []
    },
    {
      "cell_type": "code",
      "source": [],
      "metadata": {
        "id": "p9r7wDlTXfdD"
      },
      "execution_count": null,
      "outputs": []
    },
    {
      "cell_type": "code",
      "source": [],
      "metadata": {
        "id": "qz-mYHsgXfaP"
      },
      "execution_count": null,
      "outputs": []
    }
  ]
}